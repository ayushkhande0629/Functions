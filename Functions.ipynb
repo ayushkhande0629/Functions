{
  "nbformat": 4,
  "nbformat_minor": 0,
  "metadata": {
    "colab": {
      "provenance": []
    },
    "kernelspec": {
      "name": "python3",
      "display_name": "Python 3"
    },
    "language_info": {
      "name": "python"
    }
  },
  "cells": [
    {
      "cell_type": "markdown",
      "source": [
        "# Functions\n",
        "1. What is the difference between a function and a method in Python?  \n",
        "  - A **function** in Python is an independent block of code designed to perform a specific task and is usually defined using the def keyword outside of classes. A **method** is a function that is associated with an object and defined inside a class, always taking self as its first parameter. Functions can be called without the need for any object, while methods require an instance of the class to be called. Methods can access and modify the object's state, whereas functions operate on their own local scope.\n",
        "---\n",
        "2. Explain the concept of function arguments and parameters in Python.  \n",
        "- **Parameters** are variables listed in a function’s definition, acting as placeholders for values. **Arguments** are the actual values supplied to the function when it is called. Parameters allow functions to accept dynamic input and make them reusable for different values. Python supports various types of parameters such as positional, keyword, default, and variable-length, which offer a flexible way of passing data to functions.\n",
        "\n",
        "---\n",
        "3. What are the different ways to define and call a function in Python?  \n",
        "- Python functions can be defined using the def keyword for standard functions or the lambda keyword for anonymous functions. Functions are called by writing their name followed by parentheses and passed arguments if required, while methods are called on object instances using dot notation. Additionally, functions can be passed as arguments to other functions, returned from functions, and assigned to variables, demonstrating first-class citizen behavior.\n",
        "---\n",
        "4. What is the purpose of the return statement in a Python function?  \n",
        "- The **return** statement ends the function’s execution and sends an optional value back to the caller. If return is omitted or used without a value, the function returns None by default. It allows functions to output results that can be stored or used in other expressions. The return statement can also terminate the function early, which is useful for conditional exits within the function logic.\n",
        "---\n",
        "5. What are iterators in Python and how do they differ from iterables?  \n",
        "- An **iterator** is an object with \\_\\_iter\\_\\_() and \\_\\_next\\_\\_() methods that allows sequential access to elements, returning items one at a time until items are exhausted, after which it raises StopIteration. An **iterable** is any object that can provide an iterator, such as lists, tuples, and dictionaries. Every iterator is also an iterable, but not every iterable is an iterator; iterators “remember” their position, while fresh iterators can be created from iterables.\n",
        "---\n",
        "6. Explain the concept of generators in Python and how they are defined.  \n",
        "- **Generators** are special functions that use the yield statement instead of return, producing a sequence of values one at a time and resuming execution where they left off on subsequent calls. They are defined like normal functions but use yield to return data, making them memory-efficient for large datasets. Unlike regular functions, generators don’t compute all their values at once, enabling the handling of infinite or very large sequences.\n",
        "---\n",
        "7. What are the advantages of using generators over regular functions?  \n",
        "Generators generate values on the fly, conserving memory as they don’t store the entire sequence in memory, making them ideal for large or infinite datasets. They also enhance performance by producing elements only when needed and simplifying code that deals with complex iteration logic. By using the yield keyword, generators support stateful iteration without the boilerplate of implementing iterator classes.\n",
        "---\n",
        "8. What is a lambda function in Python and when is it typically used?  \n",
        "- A **lambda function** is an anonymous, one-line function defined with the lambda keyword, useful for simple operations that don’t require naming. They are commonly used when a small function is needed for a short period, such as in sorting, mapping, or filtering collections. Lambda functions help keep code concise and readable, especially when passed as arguments to higher-order functions like map or filter.\n",
        "---\n",
        "9. Explain the purpose and usage of the map() function in Python.  \n",
        "- The **map()** function applies a specified function to every item of an iterable, such as a list or tuple, and returns a map object (an iterator) with the results. It is useful for transforming or processing items without the need for an explicit loop. map() can be combined with lambda functions for succinct transformations, allowing for functional programming patterns in Python.\n",
        "---\n",
        "10. What is the difference between map(), reduce(), and filter() functions in Python?  \n",
        "- **map()** applies a function to all elements in an iterable and returns an iterator of results. **filter()** keeps only those items in an iterable for which a function returns True, discarding the rest. **reduce()** (from functools) successively applies a function to pairs of items in an iterable, combining them into a single cumulative value, often used for aggregation or summarization tasks.\n",
        "---\n",
        "11. Using pen & Paper write the internal mechanism for sum operation using  reduce function on this given list:[47,11,42,13].\n",
        "- Paper_link- https://drive.google.com/file/d/1Up-sh-rF6uaOhDWWwxvDF0gJ4JPQ1nzT/view?usp=drive_link\n",
        "---"
      ],
      "metadata": {
        "id": "K8DnJSG8RvUW"
      }
    },
    {
      "cell_type": "code",
      "source": [
        "#1. Write a Python function that takes a list of numbers as input and returns the sum of all even numbers in the list.\n",
        "def sum_of_even_numbers(num_list):\n",
        "    total = 0\n",
        "    for num in num_list:\n",
        "        if num % 2 == 0:   # Check if number is even\n",
        "            total += num   # Add to total sum\n",
        "    return total\n",
        "numbers = [47, 11, 42, 13]\n",
        "print(\"Sum of even numbers:\", sum_of_even_numbers(numbers))\n"
      ],
      "metadata": {
        "colab": {
          "base_uri": "https://localhost:8080/"
        },
        "id": "e5DhWRm3W4V2",
        "outputId": "4d8cba1b-99d1-48d8-95de-148fe9b781cd"
      },
      "execution_count": 9,
      "outputs": [
        {
          "output_type": "stream",
          "name": "stdout",
          "text": [
            "Sum of even numbers: 42\n"
          ]
        }
      ]
    },
    {
      "cell_type": "code",
      "source": [
        "#2. Create a Python function that accepts a string and returns the reverse of that string.\n",
        "def reverse_string(input_str):\n",
        "    return input_str[::-1]\n",
        "text = \"Hello, World!\"\n",
        "print(\"Reversed string:\", reverse_string(text))\n"
      ],
      "metadata": {
        "colab": {
          "base_uri": "https://localhost:8080/"
        },
        "id": "zkQEmGfLXw9L",
        "outputId": "70209274-9a03-4b29-eb49-523485e1180e"
      },
      "execution_count": 10,
      "outputs": [
        {
          "output_type": "stream",
          "name": "stdout",
          "text": [
            "Reversed string: !dlroW ,olleH\n"
          ]
        }
      ]
    },
    {
      "cell_type": "code",
      "source": [
        "#3. Implement a Python function that takes a list of integers and returns a new list containing the squares of each number.\n",
        "def square_numbers(num_list):\n",
        "    return [num ** 2 for num in num_list]\n",
        "numbers = [1, 2, 3, 4, 5]\n",
        "print(\"Squares of numbers:\", square_numbers(numbers))\n"
      ],
      "metadata": {
        "colab": {
          "base_uri": "https://localhost:8080/"
        },
        "id": "SOXZ9V2ZZnk7",
        "outputId": "fa9eca03-c473-42b7-c45d-a70da0f8aac4"
      },
      "execution_count": 11,
      "outputs": [
        {
          "output_type": "stream",
          "name": "stdout",
          "text": [
            "Squares of numbers: [1, 4, 9, 16, 25]\n"
          ]
        }
      ]
    },
    {
      "cell_type": "code",
      "source": [
        "#4. Write a Python function that checks if a given number is prime or not from 1 to 200.\n",
        "def is_prime(num):\n",
        "    if num <= 1:\n",
        "        return False\n",
        "    for i in range(2, int(num**0.5) + 1):\n",
        "        if num % i == 0:\n",
        "            return False\n",
        "    return True\n",
        "for number in range(1, 201):\n",
        "    if is_prime(number):\n",
        "        print(number, \"is a prime number\")\n"
      ],
      "metadata": {
        "colab": {
          "base_uri": "https://localhost:8080/"
        },
        "id": "W8OQwpCQZzjw",
        "outputId": "33e283af-de10-4dac-eb68-b5001b7dde10"
      },
      "execution_count": 12,
      "outputs": [
        {
          "output_type": "stream",
          "name": "stdout",
          "text": [
            "2 is a prime number\n",
            "3 is a prime number\n",
            "5 is a prime number\n",
            "7 is a prime number\n",
            "11 is a prime number\n",
            "13 is a prime number\n",
            "17 is a prime number\n",
            "19 is a prime number\n",
            "23 is a prime number\n",
            "29 is a prime number\n",
            "31 is a prime number\n",
            "37 is a prime number\n",
            "41 is a prime number\n",
            "43 is a prime number\n",
            "47 is a prime number\n",
            "53 is a prime number\n",
            "59 is a prime number\n",
            "61 is a prime number\n",
            "67 is a prime number\n",
            "71 is a prime number\n",
            "73 is a prime number\n",
            "79 is a prime number\n",
            "83 is a prime number\n",
            "89 is a prime number\n",
            "97 is a prime number\n",
            "101 is a prime number\n",
            "103 is a prime number\n",
            "107 is a prime number\n",
            "109 is a prime number\n",
            "113 is a prime number\n",
            "127 is a prime number\n",
            "131 is a prime number\n",
            "137 is a prime number\n",
            "139 is a prime number\n",
            "149 is a prime number\n",
            "151 is a prime number\n",
            "157 is a prime number\n",
            "163 is a prime number\n",
            "167 is a prime number\n",
            "173 is a prime number\n",
            "179 is a prime number\n",
            "181 is a prime number\n",
            "191 is a prime number\n",
            "193 is a prime number\n",
            "197 is a prime number\n",
            "199 is a prime number\n"
          ]
        }
      ]
    },
    {
      "cell_type": "code",
      "source": [
        "#5. Create an iterator class in Python that generates the Fibonacci sequence up to a specified number of terms.\n",
        "class FibonacciIterator:\n",
        "    def __init__(self, max_terms):\n",
        "        self.max_terms = max_terms\n",
        "        self.count = 0\n",
        "        self.a, self.b = 0, 1\n",
        "\n",
        "    def __iter__(self):\n",
        "        return self\n",
        "\n",
        "    def __next__(self):\n",
        "        if self.count >= self.max_terms:\n",
        "            raise StopIteration\n",
        "        current = self.a\n",
        "        self.a, self.b = self.b, self.a + self.b\n",
        "        self.count += 1\n",
        "        return current\n",
        "\n",
        "fib_iter = FibonacciIterator(10)\n",
        "for num in fib_iter:\n",
        "    print(num)"
      ],
      "metadata": {
        "colab": {
          "base_uri": "https://localhost:8080/"
        },
        "id": "gUzOeVBhaEbL",
        "outputId": "05923d5e-b347-48fa-976f-f1268434d465"
      },
      "execution_count": 13,
      "outputs": [
        {
          "output_type": "stream",
          "name": "stdout",
          "text": [
            "0\n",
            "1\n",
            "1\n",
            "2\n",
            "3\n",
            "5\n",
            "8\n",
            "13\n",
            "21\n",
            "34\n"
          ]
        }
      ]
    },
    {
      "cell_type": "code",
      "source": [
        "# 6. Write a generator function in Python that yields the powers of 2 up to a given exponent.\n",
        "def powers_of_two(max_exp):\n",
        "    for exp in range(max_exp + 1):\n",
        "        yield 2 ** exp\n",
        "\n",
        "for value in powers_of_two(5):\n",
        "    print(value)\n"
      ],
      "metadata": {
        "colab": {
          "base_uri": "https://localhost:8080/"
        },
        "id": "8QQVgxZPai06",
        "outputId": "dfea52f6-806e-4796-81d8-47b9ba4a9a2e"
      },
      "execution_count": 14,
      "outputs": [
        {
          "output_type": "stream",
          "name": "stdout",
          "text": [
            "1\n",
            "2\n",
            "4\n",
            "8\n",
            "16\n",
            "32\n"
          ]
        }
      ]
    },
    {
      "cell_type": "code",
      "source": [
        "# 7. Implement a generator function that reads a file line by line and yields each line as a string.\n",
        "def read_lines_simulated():\n",
        "    lines = [\"Line 1\", \"Line 2\", \"Line 3\"]\n",
        "    for line in lines:\n",
        "        yield line\n",
        "\n",
        "for line in read_lines_simulated():\n",
        "    print(line)\n"
      ],
      "metadata": {
        "colab": {
          "base_uri": "https://localhost:8080/"
        },
        "id": "K7giVZKpawLg",
        "outputId": "470e22be-d599-4733-a897-759a2630c165"
      },
      "execution_count": 20,
      "outputs": [
        {
          "output_type": "stream",
          "name": "stdout",
          "text": [
            "Line 1\n",
            "Line 2\n",
            "Line 3\n"
          ]
        }
      ]
    },
    {
      "cell_type": "code",
      "source": [
        "# 8. Use a lambda function in Python to sort a list of tuples based on the second element of each tuple.\n",
        "data = [(1, 3), (4, 1), (5, 2), (2, 4)]\n",
        "sorted_data = sorted(data, key=lambda x: x[1])\n",
        "print(sorted_data)\n"
      ],
      "metadata": {
        "colab": {
          "base_uri": "https://localhost:8080/"
        },
        "id": "cQOSC6qFbBLF",
        "outputId": "12eade71-a157-4850-9550-9300f0270bb9"
      },
      "execution_count": 17,
      "outputs": [
        {
          "output_type": "stream",
          "name": "stdout",
          "text": [
            "[(4, 1), (5, 2), (1, 3), (2, 4)]\n"
          ]
        }
      ]
    },
    {
      "cell_type": "code",
      "source": [
        "# 9. Write a Python program that uses `map()` to convert a list of temperatures from Celsius to Fahrenheit.\n",
        "def c_to_f(c):\n",
        "    return c * 9 / 5 + 32\n",
        "\n",
        "celsius_temps = [0, 20, 30, 100]\n",
        "fahrenheit_temps = list(map(c_to_f, celsius_temps))\n",
        "print(fahrenheit_temps)\n"
      ],
      "metadata": {
        "colab": {
          "base_uri": "https://localhost:8080/"
        },
        "id": "w_4xlgX5ay0R",
        "outputId": "6ab05559-3f9d-46a8-8d57-a79519abd227"
      },
      "execution_count": 18,
      "outputs": [
        {
          "output_type": "stream",
          "name": "stdout",
          "text": [
            "[32.0, 68.0, 86.0, 212.0]\n"
          ]
        }
      ]
    },
    {
      "cell_type": "code",
      "source": [
        "# 10. Create a Python program that uses `filter()` to remove all the vowels from a given string.\n",
        "def is_not_vowel(char):\n",
        "    return char.lower() not in 'aeiou'\n",
        "\n",
        "input_string = \"Hello World\"\n",
        "filtered_string = ''.join(filter(is_not_vowel, input_string))\n",
        "print(filtered_string)\n"
      ],
      "metadata": {
        "colab": {
          "base_uri": "https://localhost:8080/"
        },
        "id": "T-i1W7gRbG7B",
        "outputId": "1e1efac6-c51a-4d81-b984-0420d87a381c"
      },
      "execution_count": 19,
      "outputs": [
        {
          "output_type": "stream",
          "name": "stdout",
          "text": [
            "Hll Wrld\n"
          ]
        }
      ]
    },
    {
      "cell_type": "code",
      "source": [
        "# 11. Write a Python program, which returns a list with 2-tuples. Each tuple consists of the order number and the product of the price per item and the quantity. The product should be increased by 10,- € if the value of the order is smaller than 100,00 €. Write a Python program using lambda and map.\n",
        "\n",
        "orders = [\n",
        "    [34587, \"Learning Python, Mark Lutz\", 4, 40.95],\n",
        "    [98762, \"Programming Python, Mark Lutz\", 5, 56.80],\n",
        "    [77226, \"Head First Python, Paul Barry\", 3, 32.95],\n",
        "    [88112, \"Einführung in Python3, Bernd Klein\", 3, 24.99]\n",
        "]\n",
        "\n",
        "result = list(map(\n",
        "    lambda order: (\n",
        "        order[0],\n",
        "        order[2]*order[3] if order[2]*order[3] >= 100 else order[2]*order[3]+10\n",
        "    ),\n",
        "    orders\n",
        "))\n",
        "\n",
        "print(result)\n"
      ],
      "metadata": {
        "colab": {
          "base_uri": "https://localhost:8080/"
        },
        "id": "vaA_p0BIbJzA",
        "outputId": "f583bf43-fb3a-44c3-9866-6ca6bd2479fe"
      },
      "execution_count": 21,
      "outputs": [
        {
          "output_type": "stream",
          "name": "stdout",
          "text": [
            "[(34587, 163.8), (98762, 284.0), (77226, 108.85000000000001), (88112, 84.97)]\n"
          ]
        }
      ]
    },
    {
      "cell_type": "code",
      "source": [],
      "metadata": {
        "id": "ekm31pfcb6F5"
      },
      "execution_count": null,
      "outputs": []
    }
  ]
}